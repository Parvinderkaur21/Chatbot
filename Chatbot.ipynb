{
  "nbformat": 4,
  "nbformat_minor": 0,
  "metadata": {
    "colab": {
      "provenance": []
    },
    "kernelspec": {
      "name": "python3",
      "display_name": "Python 3"
    },
    "language_info": {
      "name": "python"
    }
  },
  "cells": [
    {
      "cell_type": "markdown",
      "source": [
        "CHAT BOT FOR TECNICA MOON PHONE\n",
        "\n",
        "\n",
        "CUSTOMER SERVICE CHATBOT"
      ],
      "metadata": {
        "id": "39oggJT_OOAW"
      }
    },
    {
      "cell_type": "code",
      "execution_count": 1,
      "metadata": {
        "id": "AlKBBaxpNtS9"
      },
      "outputs": [],
      "source": [
        "import numpy as np\n",
        "import pandas as pd"
      ]
    },
    {
      "cell_type": "code",
      "source": [
        "from sklearn.feature_extraction.text import TfidfVectorizer\n",
        "from sklearn.metrics.pairwise import cosine_similarity"
      ],
      "metadata": {
        "id": "Rk9ulKgMO95d"
      },
      "execution_count": 2,
      "outputs": []
    },
    {
      "cell_type": "code",
      "source": [
        "data = pd.read_csv(\"chatbot.csv\")"
      ],
      "metadata": {
        "id": "-0x6pp-ZN9v7"
      },
      "execution_count": 3,
      "outputs": []
    },
    {
      "cell_type": "code",
      "source": [
        "data.head()"
      ],
      "metadata": {
        "colab": {
          "base_uri": "https://localhost:8080/",
          "height": 206
        },
        "id": "wbQGU0vxOCu3",
        "outputId": "cca9c71b-d5ae-4d0f-840e-da32d29151c4"
      },
      "execution_count": 4,
      "outputs": [
        {
          "output_type": "execute_result",
          "data": {
            "text/plain": [
              "                                            Question  \\\n",
              "0  What mobile phone models does Tecnica Moon offer?   \n",
              "1  How can I place an order for a Tecnica Moon mo...   \n",
              "2                 What payment methods are accepted?   \n",
              "3                              Can I track my order?   \n",
              "4  What is the warranty policy for Tecnica Moon m...   \n",
              "\n",
              "                                              Answer  \n",
              "0  We currently offer a range of mobile phone mod...  \n",
              "1  You can place an order through our website ww....  \n",
              "2  We accept payments through cash, UPI, card pro...  \n",
              "3  Yes, you can track your order by logging into ...  \n",
              "4  Our mobile phones come with a 1 year duration....  "
            ],
            "text/html": [
              "\n",
              "  <div id=\"df-bd25ad38-7719-4c20-951b-a0ca03f5151d\" class=\"colab-df-container\">\n",
              "    <div>\n",
              "<style scoped>\n",
              "    .dataframe tbody tr th:only-of-type {\n",
              "        vertical-align: middle;\n",
              "    }\n",
              "\n",
              "    .dataframe tbody tr th {\n",
              "        vertical-align: top;\n",
              "    }\n",
              "\n",
              "    .dataframe thead th {\n",
              "        text-align: right;\n",
              "    }\n",
              "</style>\n",
              "<table border=\"1\" class=\"dataframe\">\n",
              "  <thead>\n",
              "    <tr style=\"text-align: right;\">\n",
              "      <th></th>\n",
              "      <th>Question</th>\n",
              "      <th>Answer</th>\n",
              "    </tr>\n",
              "  </thead>\n",
              "  <tbody>\n",
              "    <tr>\n",
              "      <th>0</th>\n",
              "      <td>What mobile phone models does Tecnica Moon offer?</td>\n",
              "      <td>We currently offer a range of mobile phone mod...</td>\n",
              "    </tr>\n",
              "    <tr>\n",
              "      <th>1</th>\n",
              "      <td>How can I place an order for a Tecnica Moon mo...</td>\n",
              "      <td>You can place an order through our website ww....</td>\n",
              "    </tr>\n",
              "    <tr>\n",
              "      <th>2</th>\n",
              "      <td>What payment methods are accepted?</td>\n",
              "      <td>We accept payments through cash, UPI, card pro...</td>\n",
              "    </tr>\n",
              "    <tr>\n",
              "      <th>3</th>\n",
              "      <td>Can I track my order?</td>\n",
              "      <td>Yes, you can track your order by logging into ...</td>\n",
              "    </tr>\n",
              "    <tr>\n",
              "      <th>4</th>\n",
              "      <td>What is the warranty policy for Tecnica Moon m...</td>\n",
              "      <td>Our mobile phones come with a 1 year duration....</td>\n",
              "    </tr>\n",
              "  </tbody>\n",
              "</table>\n",
              "</div>\n",
              "    <div class=\"colab-df-buttons\">\n",
              "\n",
              "  <div class=\"colab-df-container\">\n",
              "    <button class=\"colab-df-convert\" onclick=\"convertToInteractive('df-bd25ad38-7719-4c20-951b-a0ca03f5151d')\"\n",
              "            title=\"Convert this dataframe to an interactive table.\"\n",
              "            style=\"display:none;\">\n",
              "\n",
              "  <svg xmlns=\"http://www.w3.org/2000/svg\" height=\"24px\" viewBox=\"0 -960 960 960\">\n",
              "    <path d=\"M120-120v-720h720v720H120Zm60-500h600v-160H180v160Zm220 220h160v-160H400v160Zm0 220h160v-160H400v160ZM180-400h160v-160H180v160Zm440 0h160v-160H620v160ZM180-180h160v-160H180v160Zm440 0h160v-160H620v160Z\"/>\n",
              "  </svg>\n",
              "    </button>\n",
              "\n",
              "  <style>\n",
              "    .colab-df-container {\n",
              "      display:flex;\n",
              "      gap: 12px;\n",
              "    }\n",
              "\n",
              "    .colab-df-convert {\n",
              "      background-color: #E8F0FE;\n",
              "      border: none;\n",
              "      border-radius: 50%;\n",
              "      cursor: pointer;\n",
              "      display: none;\n",
              "      fill: #1967D2;\n",
              "      height: 32px;\n",
              "      padding: 0 0 0 0;\n",
              "      width: 32px;\n",
              "    }\n",
              "\n",
              "    .colab-df-convert:hover {\n",
              "      background-color: #E2EBFA;\n",
              "      box-shadow: 0px 1px 2px rgba(60, 64, 67, 0.3), 0px 1px 3px 1px rgba(60, 64, 67, 0.15);\n",
              "      fill: #174EA6;\n",
              "    }\n",
              "\n",
              "    .colab-df-buttons div {\n",
              "      margin-bottom: 4px;\n",
              "    }\n",
              "\n",
              "    [theme=dark] .colab-df-convert {\n",
              "      background-color: #3B4455;\n",
              "      fill: #D2E3FC;\n",
              "    }\n",
              "\n",
              "    [theme=dark] .colab-df-convert:hover {\n",
              "      background-color: #434B5C;\n",
              "      box-shadow: 0px 1px 3px 1px rgba(0, 0, 0, 0.15);\n",
              "      filter: drop-shadow(0px 1px 2px rgba(0, 0, 0, 0.3));\n",
              "      fill: #FFFFFF;\n",
              "    }\n",
              "  </style>\n",
              "\n",
              "    <script>\n",
              "      const buttonEl =\n",
              "        document.querySelector('#df-bd25ad38-7719-4c20-951b-a0ca03f5151d button.colab-df-convert');\n",
              "      buttonEl.style.display =\n",
              "        google.colab.kernel.accessAllowed ? 'block' : 'none';\n",
              "\n",
              "      async function convertToInteractive(key) {\n",
              "        const element = document.querySelector('#df-bd25ad38-7719-4c20-951b-a0ca03f5151d');\n",
              "        const dataTable =\n",
              "          await google.colab.kernel.invokeFunction('convertToInteractive',\n",
              "                                                    [key], {});\n",
              "        if (!dataTable) return;\n",
              "\n",
              "        const docLinkHtml = 'Like what you see? Visit the ' +\n",
              "          '<a target=\"_blank\" href=https://colab.research.google.com/notebooks/data_table.ipynb>data table notebook</a>'\n",
              "          + ' to learn more about interactive tables.';\n",
              "        element.innerHTML = '';\n",
              "        dataTable['output_type'] = 'display_data';\n",
              "        await google.colab.output.renderOutput(dataTable, element);\n",
              "        const docLink = document.createElement('div');\n",
              "        docLink.innerHTML = docLinkHtml;\n",
              "        element.appendChild(docLink);\n",
              "      }\n",
              "    </script>\n",
              "  </div>\n",
              "\n",
              "\n",
              "<div id=\"df-1bf1ff2f-c31d-4bad-98eb-22293c41e4be\">\n",
              "  <button class=\"colab-df-quickchart\" onclick=\"quickchart('df-1bf1ff2f-c31d-4bad-98eb-22293c41e4be')\"\n",
              "            title=\"Suggest charts\"\n",
              "            style=\"display:none;\">\n",
              "\n",
              "<svg xmlns=\"http://www.w3.org/2000/svg\" height=\"24px\"viewBox=\"0 0 24 24\"\n",
              "     width=\"24px\">\n",
              "    <g>\n",
              "        <path d=\"M19 3H5c-1.1 0-2 .9-2 2v14c0 1.1.9 2 2 2h14c1.1 0 2-.9 2-2V5c0-1.1-.9-2-2-2zM9 17H7v-7h2v7zm4 0h-2V7h2v10zm4 0h-2v-4h2v4z\"/>\n",
              "    </g>\n",
              "</svg>\n",
              "  </button>\n",
              "\n",
              "<style>\n",
              "  .colab-df-quickchart {\n",
              "      --bg-color: #E8F0FE;\n",
              "      --fill-color: #1967D2;\n",
              "      --hover-bg-color: #E2EBFA;\n",
              "      --hover-fill-color: #174EA6;\n",
              "      --disabled-fill-color: #AAA;\n",
              "      --disabled-bg-color: #DDD;\n",
              "  }\n",
              "\n",
              "  [theme=dark] .colab-df-quickchart {\n",
              "      --bg-color: #3B4455;\n",
              "      --fill-color: #D2E3FC;\n",
              "      --hover-bg-color: #434B5C;\n",
              "      --hover-fill-color: #FFFFFF;\n",
              "      --disabled-bg-color: #3B4455;\n",
              "      --disabled-fill-color: #666;\n",
              "  }\n",
              "\n",
              "  .colab-df-quickchart {\n",
              "    background-color: var(--bg-color);\n",
              "    border: none;\n",
              "    border-radius: 50%;\n",
              "    cursor: pointer;\n",
              "    display: none;\n",
              "    fill: var(--fill-color);\n",
              "    height: 32px;\n",
              "    padding: 0;\n",
              "    width: 32px;\n",
              "  }\n",
              "\n",
              "  .colab-df-quickchart:hover {\n",
              "    background-color: var(--hover-bg-color);\n",
              "    box-shadow: 0 1px 2px rgba(60, 64, 67, 0.3), 0 1px 3px 1px rgba(60, 64, 67, 0.15);\n",
              "    fill: var(--button-hover-fill-color);\n",
              "  }\n",
              "\n",
              "  .colab-df-quickchart-complete:disabled,\n",
              "  .colab-df-quickchart-complete:disabled:hover {\n",
              "    background-color: var(--disabled-bg-color);\n",
              "    fill: var(--disabled-fill-color);\n",
              "    box-shadow: none;\n",
              "  }\n",
              "\n",
              "  .colab-df-spinner {\n",
              "    border: 2px solid var(--fill-color);\n",
              "    border-color: transparent;\n",
              "    border-bottom-color: var(--fill-color);\n",
              "    animation:\n",
              "      spin 1s steps(1) infinite;\n",
              "  }\n",
              "\n",
              "  @keyframes spin {\n",
              "    0% {\n",
              "      border-color: transparent;\n",
              "      border-bottom-color: var(--fill-color);\n",
              "      border-left-color: var(--fill-color);\n",
              "    }\n",
              "    20% {\n",
              "      border-color: transparent;\n",
              "      border-left-color: var(--fill-color);\n",
              "      border-top-color: var(--fill-color);\n",
              "    }\n",
              "    30% {\n",
              "      border-color: transparent;\n",
              "      border-left-color: var(--fill-color);\n",
              "      border-top-color: var(--fill-color);\n",
              "      border-right-color: var(--fill-color);\n",
              "    }\n",
              "    40% {\n",
              "      border-color: transparent;\n",
              "      border-right-color: var(--fill-color);\n",
              "      border-top-color: var(--fill-color);\n",
              "    }\n",
              "    60% {\n",
              "      border-color: transparent;\n",
              "      border-right-color: var(--fill-color);\n",
              "    }\n",
              "    80% {\n",
              "      border-color: transparent;\n",
              "      border-right-color: var(--fill-color);\n",
              "      border-bottom-color: var(--fill-color);\n",
              "    }\n",
              "    90% {\n",
              "      border-color: transparent;\n",
              "      border-bottom-color: var(--fill-color);\n",
              "    }\n",
              "  }\n",
              "</style>\n",
              "\n",
              "  <script>\n",
              "    async function quickchart(key) {\n",
              "      const quickchartButtonEl =\n",
              "        document.querySelector('#' + key + ' button');\n",
              "      quickchartButtonEl.disabled = true;  // To prevent multiple clicks.\n",
              "      quickchartButtonEl.classList.add('colab-df-spinner');\n",
              "      try {\n",
              "        const charts = await google.colab.kernel.invokeFunction(\n",
              "            'suggestCharts', [key], {});\n",
              "      } catch (error) {\n",
              "        console.error('Error during call to suggestCharts:', error);\n",
              "      }\n",
              "      quickchartButtonEl.classList.remove('colab-df-spinner');\n",
              "      quickchartButtonEl.classList.add('colab-df-quickchart-complete');\n",
              "    }\n",
              "    (() => {\n",
              "      let quickchartButtonEl =\n",
              "        document.querySelector('#df-1bf1ff2f-c31d-4bad-98eb-22293c41e4be button');\n",
              "      quickchartButtonEl.style.display =\n",
              "        google.colab.kernel.accessAllowed ? 'block' : 'none';\n",
              "    })();\n",
              "  </script>\n",
              "</div>\n",
              "    </div>\n",
              "  </div>\n"
            ]
          },
          "metadata": {},
          "execution_count": 4
        }
      ]
    },
    {
      "cell_type": "code",
      "source": [
        "data.info()"
      ],
      "metadata": {
        "colab": {
          "base_uri": "https://localhost:8080/"
        },
        "id": "Jd1LK1gCODZi",
        "outputId": "d1904d6a-2a6f-4708-a4c6-4af7a25801a1"
      },
      "execution_count": 5,
      "outputs": [
        {
          "output_type": "stream",
          "name": "stdout",
          "text": [
            "<class 'pandas.core.frame.DataFrame'>\n",
            "RangeIndex: 84 entries, 0 to 83\n",
            "Data columns (total 2 columns):\n",
            " #   Column    Non-Null Count  Dtype \n",
            "---  ------    --------------  ----- \n",
            " 0   Question  84 non-null     object\n",
            " 1   Answer    84 non-null     object\n",
            "dtypes: object(2)\n",
            "memory usage: 1.4+ KB\n"
          ]
        }
      ]
    },
    {
      "cell_type": "code",
      "source": [
        "data.isnull().sum()  #no null values present"
      ],
      "metadata": {
        "colab": {
          "base_uri": "https://localhost:8080/"
        },
        "id": "nj6tqL2HO7z9",
        "outputId": "097d28f0-2024-4721-80ed-4bc8413a85ab"
      },
      "execution_count": 6,
      "outputs": [
        {
          "output_type": "execute_result",
          "data": {
            "text/plain": [
              "Question    0\n",
              "Answer      0\n",
              "dtype: int64"
            ]
          },
          "metadata": {},
          "execution_count": 6
        }
      ]
    },
    {
      "cell_type": "code",
      "source": [
        "tf = TfidfVectorizer()"
      ],
      "metadata": {
        "id": "gCxsoR5kS-cu"
      },
      "execution_count": 7,
      "outputs": []
    },
    {
      "cell_type": "code",
      "source": [
        "df = np.concatenate((data[\"Question\"],data[\"Answer\"]))"
      ],
      "metadata": {
        "id": "Jq03m08_UE_d"
      },
      "execution_count": 8,
      "outputs": []
    },
    {
      "cell_type": "code",
      "source": [
        "df"
      ],
      "metadata": {
        "colab": {
          "base_uri": "https://localhost:8080/"
        },
        "id": "X-ZnjBVeUmiZ",
        "outputId": "4e7028a9-9a44-4770-e57f-3393b1cb36c2"
      },
      "execution_count": 9,
      "outputs": [
        {
          "output_type": "execute_result",
          "data": {
            "text/plain": [
              "array(['What mobile phone models does Tecnica Moon offer?',\n",
              "       'How can I place an order for a Tecnica Moon mobile phone?',\n",
              "       'What payment methods are accepted?', 'Can I track my order?',\n",
              "       'What is the warranty policy for Tecnica Moon mobile phones?',\n",
              "       'How do I return a product?', 'What are the shipping costs?',\n",
              "       'Are Tecnica Moon mobile phones compatible with  carrier networks?',\n",
              "       'How do I set up my new Tecnica Moon mobile phone?',\n",
              "       'Is there a customer loyalty program?',\n",
              "       'Can I purchase accessories for Tecnica Moon mobile phones?',\n",
              "       'How can I update the software on my Tecnica Moon mobile phone?',\n",
              "       'What is the battery life of Tecnica Moon mobile phones?',\n",
              "       'Are Tecnica Moon mobile phones water-resistant?',\n",
              "       'How do I transfer data from my old phone to my new Tecnica Moon phone?',\n",
              "       'What security features are available on Tecnica Moon mobile phones?',\n",
              "       'Can I order Tecnica Moon mobile phones internationally?',\n",
              "       \"How do I contact Tecnica Moon's customer support team?\",\n",
              "       'Does Tecnica Moon provide software updates for older phone models?',\n",
              "       'Can I customize the appearance of my Tecnica Moon mobile phone?',\n",
              "       'What are the system requirements for running specific applications on Tecnica Moon phones?',\n",
              "       'How do I extend the battery life of my Tecnica Moon mobile phone?',\n",
              "       'Are there tutorials available for advanced features on Tecnica Moon phones?',\n",
              "       'Can I trade in my old Tecnica Moon phone for a discount on a new one?',\n",
              "       'How do I check for software updates manually on my Tecnica Moon phone?',\n",
              "       'What should I do if my Tecnica Moon phone is lost or stolen?',\n",
              "       'Does Tecnica Moon provide educational discounts for students?',\n",
              "       'How do I reset my Tecnica Moon phone to factory settings?',\n",
              "       'Are Tecnica Moon phones compatible with virtual reality (VR) apps?',\n",
              "       'Can I customize the notification settings on my Tecnica Moon phone?',\n",
              "       'How do I set up my new Tecnica Moon phone?',\n",
              "       'What are the available color options for Tecnica Moon phones?',\n",
              "       'How can I transfer my contacts from my old phone to my new Tecnica Moon phone?',\n",
              "       'What is the latest model released by Tecnica Moon?',\n",
              "       'Is there a user forum or community for Tecnica Moon phone users?',\n",
              "       'How do I check for software updates on my Tecnica Moon phone?',\n",
              "       'What should I do if my phone is not charging?',\n",
              "       'Can I use third-party apps on Tecnica Moon phones?',\n",
              "       'How do I enable/disable notifications on my Tecnica Moon phone?',\n",
              "       'What is the recommended way to back up my Tecnica Moon phone data?',\n",
              "       'How do I enable Dark Mode on my Tecnica Moon phone?',\n",
              "       'What is the maximum expandable storage for Tecnica Moon phones?',\n",
              "       'Is there a warranty for accessories purchased with my Tecnica Moon phone?',\n",
              "       'an I use a Tecnica Moon phone with a smartwatch from a different brand?',\n",
              "       'How do I find my lost Tecnica Moon phone?',\n",
              "       'Can I use facial recognition or fingerprint scanning to unlock my Tecnica Moon phone?',\n",
              "       'What is the lifespan of the battery in Tecnica Moon phones?',\n",
              "       \"How do I update my Tecnica Moon phone's operating system manually?\",\n",
              "       'What is the water resistance rating for Tecnica Moon phones?',\n",
              "       'What are the key features of the latest Tecnica Moon phone model?',\n",
              "       'Can I use gesture controls on my Tecnica Moon phone?',\n",
              "       'What is the maximum resolution for video recording on Tecnica Moon phones?',\n",
              "       'Can I expand the storage capacity of my Tecnica Moon phone with a microSD card?',\n",
              "       'Does my Tecnica Moon phone support 5G connectivity?',\n",
              "       'What are the available biometric security options on Tecnica Moon phones?',\n",
              "       'Can I use my Tecnica Moon phone as a mobile hotspot?',\n",
              "       'What is the difference between the different series of Tecnica Moon phones?',\n",
              "       'What is the battery capacity of the Tecnica Moon phone model?',\n",
              "       'How do I activate the gaming mode on my Tecnica Moon phone for an optimal gaming experience?',\n",
              "       'Which Tecnica Moon phones support wireless charging, and are there specific charging pads recommended?',\n",
              "       'What camera modes are available on the Tecnica Moon phone camera app?',\n",
              "       'Are Tecnica Moon phones compatible with virtual reality (VR) headsets?',\n",
              "       'Can you tell me more about Tecnica Moon as a company and its mission?',\n",
              "       'How often does Tecnica Moon release new phone models?',\n",
              "       'What sets Tecnica Moon phones apart from other competitors in the market?',\n",
              "       'Can you provide information about upcoming Tecnica Moon phone models and their release dates?',\n",
              "       'How does Tecnica Moon handle sustainability and eco-friendly practices in phone manufacturing?',\n",
              "       'Are Tecnica Moon phones compatible with the latest network technologies, such as 5G?',\n",
              "       'How does Tecnica Moon handle software updates for older phone models?',\n",
              "       'Where is Tecnica Moon headquartered, and does the company have a global presence?',\n",
              "       'Can you provide information about the founding year of Tecnica Moon and its history?',\n",
              "       'How does Tecnica Moon ensure the privacy and security of user data?',\n",
              "       'How can I stay updated on the latest news and announcements from Tecnica Moon?',\n",
              "       'What are the flagship products currently offered by Tecnica Moon?',\n",
              "       'Can you provide an overview of the different product categories Tecnica Moon offers?',\n",
              "       'Can I find phones with specific features, such as a large battery or high-resolution camera, in the Tecnica Moon lineup?',\n",
              "       'Hello.',\n",
              "       'Hi there! Can you recommend a good Tecnica Moon phone for photography?',\n",
              "       'Hi', 'Good morning', 'good afternoon', 'good night', 'bye',\n",
              "       'good bye',\n",
              "       'We currently offer a range of mobile phone models, including MobileX, MobileY, MobileZ. You can find more details on our website.',\n",
              "       'You can place an order through our website ww.tecnicamoon.in  or contact our sales team at ***.',\n",
              "       'We accept payments through cash, UPI, card providing a secure and convenient shopping experience.',\n",
              "       'Yes, you can track your order by logging into your account on our website or contacting our customer support team.',\n",
              "       'Our mobile phones come with a 1 year duration. For more details, please refer to our warranty policy on the website.',\n",
              "       'If you need to return a product, please review our return policy on the website and then contact our customer support team for assistance.',\n",
              "       'Shipping costs vary based on your location and the shipping method selected during checkout. You can find detailed information on shipping costs on our website.',\n",
              "       'Our mobile phones are compatible with a wide range of carriers, including XYZ compatible carriers. Please check the specifications for each model for more details.',\n",
              "       'You can find setup instructions in the user manual provided with your mobile phone. If you need further assistance, feel free to contact our support team.',\n",
              "       'Yes, we offer a customer loyalty program. Details can be found on our website, and you can also contact our customer support for more information.',\n",
              "       'Absolutely! We offer a range of accessories for our mobile phones, including cases, chargers, and more. Check our website for the latest offerings.',\n",
              "       'Software updates can be performed through the phone\\'s settings. Navigate to \"Settings,\" then \"Software Update\" to ensure you have the latest features and security enhancements.',\n",
              "       'The battery life varies by model. You can find specific details in the product specifications on our website or in the user manual provided with your phone.',\n",
              "       'Some of our models have water-resistant features. Check the specifications for each model on our website to see if they meet your requirements.',\n",
              "       \"You can transfer data using the phone's built-in migration tools or third-party apps. Refer to the user manual for step-by-step instructions or contact our support team for guidance.\",\n",
              "       'Our phones come equipped with [mention security features], ensuring the safety of your data. Refer to the product specifications for detailed security information.',\n",
              "       'Yes, we offer international shipping. Check our website for information on supported countries and shipping rates.',\n",
              "       'You can reach our customer support team through [provide contact details], or visit our website for live chat support during business hours',\n",
              "       'We strive to support our customers by providing software updates when possible. Check our website or contact support for information on updates for specific models.',\n",
              "       'Yes, we offer various customization options such as themes and wallpapers. Explore the settings menu on your phone for personalization features.',\n",
              "       \"Refer to the app's listing on our app store or contact the app developer for detailed system requirements.\",\n",
              "       'To optimize battery life, adjust screen brightness, close unused apps, and disable unnecessary background processes. Refer to the user manual for more tips.',\n",
              "       'Yes, we provide video tutorials on our website for various advanced features. Visit our support page for a library of helpful videos.',\n",
              "       'We offer a trade-in program. Check our website for details on eligible devices and the trade-in process',\n",
              "       'Go to \"Settings,\" then \"Software Update,\" and select \"Check for Updates\" to see if there are any available updates for your device.',\n",
              "       'If your phone is lost or stolen, contact our support team immediately. They can assist in securing your account and providing guidance on next steps.',\n",
              "       'Yes, we offer educational discounts for eligible students. Check our website or contact our sales team for more information.',\n",
              "       'You can perform a factory reset in the phone\\'s settings under \"System\" or \"Reset.\" Ensure you back up your data before initiating this process.',\n",
              "       'Some of our models support VR applications. Check the specifications on our website to see if your device is VR-compatible.',\n",
              "       'Yes, you can customize notification settings in the \"Sound & Notification\" or \"Notifications\" section in your phone\\'s settings.',\n",
              "       'To set up your new phone, follow the on-screen instructions or refer to the user manual provided in the box.',\n",
              "       'Our phones are available in a variety of colors, including black,red,green. Check our website for the latest color options.',\n",
              "       'You can transfer contacts using Bluetooth, a SIM card, or by syncing with your Google or Apple account. Refer to the user manual for detailed instructions.',\n",
              "       'Our latest model is SkyMoonPhone. Visit our website for more information on its features and specifications.',\n",
              "       'Yes, we have a user forum where you can connect with other Tecnica Moon phone users, ask questions, and share experiences.',\n",
              "       'Go to \"Settings,\" then \"Software Update\" to check for the latest updates. Make sure your phone is connected to the internet for the update process',\n",
              "       'Ensure you are using a compatible charger and cable. Try cleaning the charging port and, if the issue persists, contact our support team for assistance.',\n",
              "       'Yes, Tecnica Moon phones support third-party apps. You can download them from our app store or other trusted sources.',\n",
              "       'You can manage notifications in the \"Settings\" app under \"Sound & Notification\" or \"Notifications,\" depending on your phone model.',\n",
              "       \"Use the built-in backup feature in your phone's settings or sync your data with cloud services like Google Drive or iCloud for regular backups.\",\n",
              "       'Dark Mode can be enabled in the \"Display\" or \"Themes\" section of your phone\\'s settings, depending on the model.',\n",
              "       'The maximum expandable storage varies by model. Refer to the product specifications on our website for details.',\n",
              "       'Yes, accessories typically come with a warranty. Check the warranty details provided with each accessory or contact our support team.',\n",
              "       \"Yes, Tecnica Moon phones are generally compatible with a wide range of smartwatches. Check for specific compatibility details on the watch manufacturer's website.\",\n",
              "       'Use the built-in Find My Phone feature or a third-party tracking app. Make sure location services are enabled on your device.',\n",
              "       'Yes, many of our phones support facial recognition and fingerprint scanning for secure and convenient unlocking. Set up these features in the \"Security\" or \"Biometrics\" settings.',\n",
              "       'The battery lifespan varies by usage and model. Generally, batteries can last several years with regular charging. Consider replacing the battery if you experience significant degradation.',\n",
              "       'Go to \"Settings,\" then \"Software Update,\" and select \"Check for Updates\" to manually initiate the update process.',\n",
              "       'The water resistance rating varies by model. Check the product specifications on our website for details on the water resistance of your specific phone.',\n",
              "       'The latest model comes equipped with key features, including specific features like camera capabilities, processor, display technology, etc.',\n",
              "       'Yes, many of our phones support gesture controls for tasks like navigating through apps, taking screenshots, or silencing calls. Check the \"Gesture\" or \"Motion\" settings for options.',\n",
              "       'The maximum video recording resolution varies by model. Check the camera specifications on our website for details.',\n",
              "       'Yes, many of our phones support expandable storage via a microSD card. Look for a dedicated card slot or check the product specifications for compatibility.',\n",
              "       'Yes, certain models in our lineup are equipped with 5G capabilities. Refer to the product specifications to see if your device supports 5G.',\n",
              "       'Our phones offer various biometric security options, including facial recognition, fingerprint scanning, and iris scanning. Set up these features in the \"Security\" or \"Biometrics\" settings.',\n",
              "       'Yes, you can use your phone as a mobile hotspot to share your cellular data connection with other devices. Find this feature in the \"Hotspot\" or \"Tethering\" settings.',\n",
              "       'Our phone series cater to different user needs. The prod1, prod2, prod3 are designed for highlight specific features, e.g., photography, gaming, business. Explore our website for detailed comparisons.',\n",
              "       'The battery capacity of the model is [ 200 battery capacity, e.g., in mAh]. Check the product specifications for detailed information.',\n",
              "       'You can activate the gaming mode in the \"Game\" or \"Performance\" settings. This feature enhances performance and minimizes interruptions during gaming sessions.',\n",
              "       'ALL Models support wireless charging. Use Qi-compatible charging pads for the best results.',\n",
              "       'The camera app offers various modes, including [mention modes like Panorama, Pro Mode, Night Mode, etc.]. Explore the camera app settings for a complete list.',\n",
              "       'Yes, certain models are compatible with VR headsets. Look for VR compatibility details in the product specifications on our website.',\n",
              "       'Tecnica Moon is dedicated to  delivering innovative and reliable mobile solutions. Learn more about our story on the \"About Us\" section of our website.',\n",
              "       'We strive to introduce new phone models regularly to bring the latest technology and features to our users. Keep an eye on our website and social media for announcements.',\n",
              "       'Tecnica Moon phones are known for [mention key differentiators, e.g., cutting-edge technology, sleek design, robust features]. Explore our website for detailed comparisons.',\n",
              "       'Stay tuned for announcements on our official website and social media channels for details about upcoming phone models and their release dates.',\n",
              "       'Tecnica Moon is committed to sustainable practices. Our phones are designed with [mention eco-friendly features, e.g., recyclable materials, energy-efficient components]. Learn more about our sustainability initiatives on our website.',\n",
              "       'Yes, many of our newer phone models are equipped with 5G capabilities. Check the product specifications on our website for details on network compatibility.',\n",
              "       'We aim to provide software updates for older phone models when possible. However, certain limitations may apply. Check our website for information on software updates for specific models.',\n",
              "       'Tecnica Moon is headquartered in [mention location]. While our roots are here, we have a global presence, serving customers in [list countries or regions].',\n",
              "       'Tecnica Moon was founded in 2023. Learn more about our journey and history on the \"About Us\" page of our official website.',\n",
              "       'User privacy and data security are paramount at Tecnica Moon. We employ robust encryption measures and adhere to strict privacy policies outlined in our terms of service.',\n",
              "       \"Stay connected with Tecnica Moon by following our official social media accounts and regularly checking our website's news and announcements section for the latest updates.\",\n",
              "       'Our flagship products include the prod1,prod2,prod3. These phones are known for their [mention key features, e.g., cutting-edge technology, impressive camera capabilities]',\n",
              "       'Tecnica Moon offers a diverse range of products, including smartphones.Explore our website for a complete catalog.',\n",
              "       'Absolutely! Tecnica Moon offers phones with a variety of features, including large battery capacities, high-resolution cameras, and more. Check the product specifications to find a model that suits your requirements.',\n",
              "       \"Whether it's troubleshooting, product information, or general queries related to our product. I'm here to help!\",\n",
              "       \"Hi! Absolutely, for photography, I recommend the model X. It excels in [highlight camera features]. Anything else you'd like to know?\",\n",
              "       \"Hi, Whether it's troubleshooting, product information, or general queries related to our product. I'm here to help!\",\n",
              "       \"Hi, Whether it's troubleshooting, product information, or general queries related to our product. I'm here to help!\",\n",
              "       \"Hi, Whether it's troubleshooting, product information, or general queries related to our product. I'm here to help!\",\n",
              "       \"Hi, Whether it's troubleshooting, product information, or general queries related to our product. I'm here to help!\",\n",
              "       'Bye', 'bye'], dtype=object)"
            ]
          },
          "metadata": {},
          "execution_count": 9
        }
      ]
    },
    {
      "cell_type": "code",
      "source": [
        "tf.fit(df)"
      ],
      "metadata": {
        "colab": {
          "base_uri": "https://localhost:8080/",
          "height": 74
        },
        "id": "xs0GoOcbUvO_",
        "outputId": "8ab4550c-dad3-4608-bc08-36c4f3db62c2"
      },
      "execution_count": 10,
      "outputs": [
        {
          "output_type": "execute_result",
          "data": {
            "text/plain": [
              "TfidfVectorizer()"
            ],
            "text/html": [
              "<style>#sk-container-id-1 {color: black;background-color: white;}#sk-container-id-1 pre{padding: 0;}#sk-container-id-1 div.sk-toggleable {background-color: white;}#sk-container-id-1 label.sk-toggleable__label {cursor: pointer;display: block;width: 100%;margin-bottom: 0;padding: 0.3em;box-sizing: border-box;text-align: center;}#sk-container-id-1 label.sk-toggleable__label-arrow:before {content: \"▸\";float: left;margin-right: 0.25em;color: #696969;}#sk-container-id-1 label.sk-toggleable__label-arrow:hover:before {color: black;}#sk-container-id-1 div.sk-estimator:hover label.sk-toggleable__label-arrow:before {color: black;}#sk-container-id-1 div.sk-toggleable__content {max-height: 0;max-width: 0;overflow: hidden;text-align: left;background-color: #f0f8ff;}#sk-container-id-1 div.sk-toggleable__content pre {margin: 0.2em;color: black;border-radius: 0.25em;background-color: #f0f8ff;}#sk-container-id-1 input.sk-toggleable__control:checked~div.sk-toggleable__content {max-height: 200px;max-width: 100%;overflow: auto;}#sk-container-id-1 input.sk-toggleable__control:checked~label.sk-toggleable__label-arrow:before {content: \"▾\";}#sk-container-id-1 div.sk-estimator input.sk-toggleable__control:checked~label.sk-toggleable__label {background-color: #d4ebff;}#sk-container-id-1 div.sk-label input.sk-toggleable__control:checked~label.sk-toggleable__label {background-color: #d4ebff;}#sk-container-id-1 input.sk-hidden--visually {border: 0;clip: rect(1px 1px 1px 1px);clip: rect(1px, 1px, 1px, 1px);height: 1px;margin: -1px;overflow: hidden;padding: 0;position: absolute;width: 1px;}#sk-container-id-1 div.sk-estimator {font-family: monospace;background-color: #f0f8ff;border: 1px dotted black;border-radius: 0.25em;box-sizing: border-box;margin-bottom: 0.5em;}#sk-container-id-1 div.sk-estimator:hover {background-color: #d4ebff;}#sk-container-id-1 div.sk-parallel-item::after {content: \"\";width: 100%;border-bottom: 1px solid gray;flex-grow: 1;}#sk-container-id-1 div.sk-label:hover label.sk-toggleable__label {background-color: #d4ebff;}#sk-container-id-1 div.sk-serial::before {content: \"\";position: absolute;border-left: 1px solid gray;box-sizing: border-box;top: 0;bottom: 0;left: 50%;z-index: 0;}#sk-container-id-1 div.sk-serial {display: flex;flex-direction: column;align-items: center;background-color: white;padding-right: 0.2em;padding-left: 0.2em;position: relative;}#sk-container-id-1 div.sk-item {position: relative;z-index: 1;}#sk-container-id-1 div.sk-parallel {display: flex;align-items: stretch;justify-content: center;background-color: white;position: relative;}#sk-container-id-1 div.sk-item::before, #sk-container-id-1 div.sk-parallel-item::before {content: \"\";position: absolute;border-left: 1px solid gray;box-sizing: border-box;top: 0;bottom: 0;left: 50%;z-index: -1;}#sk-container-id-1 div.sk-parallel-item {display: flex;flex-direction: column;z-index: 1;position: relative;background-color: white;}#sk-container-id-1 div.sk-parallel-item:first-child::after {align-self: flex-end;width: 50%;}#sk-container-id-1 div.sk-parallel-item:last-child::after {align-self: flex-start;width: 50%;}#sk-container-id-1 div.sk-parallel-item:only-child::after {width: 0;}#sk-container-id-1 div.sk-dashed-wrapped {border: 1px dashed gray;margin: 0 0.4em 0.5em 0.4em;box-sizing: border-box;padding-bottom: 0.4em;background-color: white;}#sk-container-id-1 div.sk-label label {font-family: monospace;font-weight: bold;display: inline-block;line-height: 1.2em;}#sk-container-id-1 div.sk-label-container {text-align: center;}#sk-container-id-1 div.sk-container {/* jupyter's `normalize.less` sets `[hidden] { display: none; }` but bootstrap.min.css set `[hidden] { display: none !important; }` so we also need the `!important` here to be able to override the default hidden behavior on the sphinx rendered scikit-learn.org. See: https://github.com/scikit-learn/scikit-learn/issues/21755 */display: inline-block !important;position: relative;}#sk-container-id-1 div.sk-text-repr-fallback {display: none;}</style><div id=\"sk-container-id-1\" class=\"sk-top-container\"><div class=\"sk-text-repr-fallback\"><pre>TfidfVectorizer()</pre><b>In a Jupyter environment, please rerun this cell to show the HTML representation or trust the notebook. <br />On GitHub, the HTML representation is unable to render, please try loading this page with nbviewer.org.</b></div><div class=\"sk-container\" hidden><div class=\"sk-item\"><div class=\"sk-estimator sk-toggleable\"><input class=\"sk-toggleable__control sk-hidden--visually\" id=\"sk-estimator-id-1\" type=\"checkbox\" checked><label for=\"sk-estimator-id-1\" class=\"sk-toggleable__label sk-toggleable__label-arrow\">TfidfVectorizer</label><div class=\"sk-toggleable__content\"><pre>TfidfVectorizer()</pre></div></div></div></div></div>"
            ]
          },
          "metadata": {},
          "execution_count": 10
        }
      ]
    },
    {
      "cell_type": "code",
      "source": [
        "feature_col = tf.get_feature_names_out()"
      ],
      "metadata": {
        "id": "00bTQA8wVJ3v"
      },
      "execution_count": 11,
      "outputs": []
    },
    {
      "cell_type": "code",
      "source": [
        "len(feature_col)"
      ],
      "metadata": {
        "colab": {
          "base_uri": "https://localhost:8080/"
        },
        "id": "fKixqaxaVa7K",
        "outputId": "acbe30d7-6d68-45cc-ff92-10b1908c9fd9"
      },
      "execution_count": 12,
      "outputs": [
        {
          "output_type": "execute_result",
          "data": {
            "text/plain": [
              "563"
            ]
          },
          "metadata": {},
          "execution_count": 12
        }
      ]
    },
    {
      "cell_type": "code",
      "source": [
        "df_vectors = tf.transform(data[\"Question\"])"
      ],
      "metadata": {
        "id": "kSYnNllSVnpa"
      },
      "execution_count": 13,
      "outputs": []
    },
    {
      "cell_type": "code",
      "source": [
        "df_vectors"
      ],
      "metadata": {
        "colab": {
          "base_uri": "https://localhost:8080/"
        },
        "id": "XvbiLCNjWs0g",
        "outputId": "eb3d6907-9102-4383-93a2-d788cf11b44e"
      },
      "execution_count": 14,
      "outputs": [
        {
          "output_type": "execute_result",
          "data": {
            "text/plain": [
              "<84x563 sparse matrix of type '<class 'numpy.float64'>'\n",
              "\twith 812 stored elements in Compressed Sparse Row format>"
            ]
          },
          "metadata": {},
          "execution_count": 14
        }
      ]
    },
    {
      "cell_type": "code",
      "source": [
        "#code\n",
        "print(\"Hi there, I am a chabot for Tecnica Moon Mobile company. You can reach out to me for any information related to our product.\")\n",
        "\n",
        "while True:\n",
        "  input_ques = input()\n",
        "  input_quesvec = tf.transform([input_ques])\n",
        "  similar = cosine_similarity(input_quesvec,df_vectors)\n",
        "  ans = np.argmax(similar,axis = 1)\n",
        "  print(\"chatbot:\", data[\"Answer\"].iloc[ans].values[0])\n"
      ],
      "metadata": {
        "colab": {
          "base_uri": "https://localhost:8080/"
        },
        "id": "wzxQocaVXQqx",
        "outputId": "e8b53b42-a010-46e2-8309-ea5c0188134c"
      },
      "execution_count": null,
      "outputs": [
        {
          "output_type": "stream",
          "name": "stdout",
          "text": [
            "Hi there, I am a chabot for Tecnica Moon Mobile company. You can reach out to me for any information related to our product.\n",
            "Good morning\n",
            "chatbot: Hi, Whether it's troubleshooting, product information, or general queries related to our product. I'm here to help!\n",
            "How do I reset my Tecnica Moon phone to factory settings?\n",
            "chatbot: You can perform a factory reset in the phone's settings under \"System\" or \"Reset.\" Ensure you back up your data before initiating this process.\n",
            "How do I check for software updates manually on my Tecnica Moon phone?\n",
            "chatbot: Go to \"Settings,\" then \"Software Update,\" and select \"Check for Updates\" to see if there are any available updates for your device.\n",
            "Does Tecnica Moon provide educational discounts for students?\n",
            "chatbot: Yes, we offer educational discounts for eligible students. Check our website or contact our sales team for more information.\n",
            "What should I do if my phone is not charging?\n",
            "chatbot: Ensure you are using a compatible charger and cable. Try cleaning the charging port and, if the issue persists, contact our support team for assistance.\n",
            "What is the maximum expandable storage for Tecnica Moon phones?\n",
            "chatbot: The maximum expandable storage varies by model. Refer to the product specifications on our website for details.\n",
            "Thanks\n",
            "chatbot: We currently offer a range of mobile phone models, including MobileX, MobileY, MobileZ. You can find more details on our website.\n",
            "bye\n",
            "chatbot: Bye\n"
          ]
        }
      ]
    },
    {
      "cell_type": "code",
      "source": [],
      "metadata": {
        "id": "j4Pbmr6NbTIt"
      },
      "execution_count": null,
      "outputs": []
    }
  ]
}